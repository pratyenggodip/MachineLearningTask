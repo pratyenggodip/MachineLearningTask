{
 "cells": [
  {
   "cell_type": "markdown",
   "id": "9f1614e9",
   "metadata": {
    "papermill": {
     "duration": 0.005264,
     "end_time": "2024-01-04T09:11:05.303031",
     "exception": false,
     "start_time": "2024-01-04T09:11:05.297767",
     "status": "completed"
    },
    "tags": []
   },
   "source": [
    "**This notebook is an exercise in the [Introduction to Machine Learning](https://www.kaggle.com/learn/intro-to-machine-learning) course.  You can reference the tutorial at [this link](https://www.kaggle.com/dansbecker/underfitting-and-overfitting).**\n",
    "\n",
    "---\n"
   ]
  },
  {
   "cell_type": "markdown",
   "id": "0ebcb164",
   "metadata": {
    "papermill": {
     "duration": 0.004405,
     "end_time": "2024-01-04T09:11:05.312493",
     "exception": false,
     "start_time": "2024-01-04T09:11:05.308088",
     "status": "completed"
    },
    "tags": []
   },
   "source": [
    "## Recap\n",
    "You've built your first model, and now it's time to optimize the size of the tree to make better predictions. Run this cell to set up your coding environment where the previous step left off."
   ]
  },
  {
   "cell_type": "code",
   "execution_count": 1,
   "id": "b7bfc6ce",
   "metadata": {
    "execution": {
     "iopub.execute_input": "2024-01-04T09:11:05.324148Z",
     "iopub.status.busy": "2024-01-04T09:11:05.323544Z",
     "iopub.status.idle": "2024-01-04T09:11:07.809189Z",
     "shell.execute_reply": "2024-01-04T09:11:07.807704Z"
    },
    "papermill": {
     "duration": 2.494948,
     "end_time": "2024-01-04T09:11:07.812180",
     "exception": false,
     "start_time": "2024-01-04T09:11:05.317232",
     "status": "completed"
    },
    "tags": []
   },
   "outputs": [
    {
     "name": "stdout",
     "output_type": "stream",
     "text": [
      "Validation MAE: 29,653\n",
      "\n",
      "Setup complete\n"
     ]
    }
   ],
   "source": [
    "#Nama : Pratyenggo Damar Iswara Putra\n",
    "#NIM  : 1103194141\n",
    "\n",
    "# Code you have previously used to load data\n",
    "import pandas as pd\n",
    "from sklearn.metrics import mean_absolute_error\n",
    "from sklearn.model_selection import train_test_split\n",
    "from sklearn.tree import DecisionTreeRegressor\n",
    "\n",
    "\n",
    "# Path of the file to read\n",
    "iowa_file_path = '../input/home-data-for-ml-course/train.csv'\n",
    "\n",
    "home_data = pd.read_csv(iowa_file_path)\n",
    "# Create target object and call it y\n",
    "y = home_data.SalePrice\n",
    "# Create X\n",
    "features = ['LotArea', 'YearBuilt', '1stFlrSF', '2ndFlrSF', 'FullBath', 'BedroomAbvGr', 'TotRmsAbvGrd']\n",
    "X = home_data[features]\n",
    "\n",
    "# Split into validation and training data\n",
    "train_X, val_X, train_y, val_y = train_test_split(X, y, random_state=1)\n",
    "\n",
    "# Specify Model\n",
    "iowa_model = DecisionTreeRegressor(random_state=1)\n",
    "# Fit Model\n",
    "iowa_model.fit(train_X, train_y)\n",
    "\n",
    "# Make validation predictions and calculate mean absolute error\n",
    "val_predictions = iowa_model.predict(val_X)\n",
    "val_mae = mean_absolute_error(val_predictions, val_y)\n",
    "print(\"Validation MAE: {:,.0f}\".format(val_mae))\n",
    "\n",
    "# Set up code checking\n",
    "from learntools.core import binder\n",
    "binder.bind(globals())\n",
    "from learntools.machine_learning.ex5 import *\n",
    "print(\"\\nSetup complete\")"
   ]
  },
  {
   "cell_type": "markdown",
   "id": "c0a2c219",
   "metadata": {
    "papermill": {
     "duration": 0.004723,
     "end_time": "2024-01-04T09:11:07.822169",
     "exception": false,
     "start_time": "2024-01-04T09:11:07.817446",
     "status": "completed"
    },
    "tags": []
   },
   "source": [
    "# Exercises\n",
    "You could write the function `get_mae` yourself. For now, we'll supply it. This is the same function you read about in the previous lesson. Just run the cell below."
   ]
  },
  {
   "cell_type": "code",
   "execution_count": 2,
   "id": "ee7272f1",
   "metadata": {
    "execution": {
     "iopub.execute_input": "2024-01-04T09:11:07.835319Z",
     "iopub.status.busy": "2024-01-04T09:11:07.834892Z",
     "iopub.status.idle": "2024-01-04T09:11:07.842660Z",
     "shell.execute_reply": "2024-01-04T09:11:07.840908Z"
    },
    "papermill": {
     "duration": 0.017883,
     "end_time": "2024-01-04T09:11:07.845458",
     "exception": false,
     "start_time": "2024-01-04T09:11:07.827575",
     "status": "completed"
    },
    "tags": []
   },
   "outputs": [],
   "source": [
    "def get_mae(max_leaf_nodes, train_X, val_X, train_y, val_y):\n",
    "    model = DecisionTreeRegressor(max_leaf_nodes=max_leaf_nodes, random_state=0)\n",
    "    model.fit(train_X, train_y)\n",
    "    preds_val = model.predict(val_X)\n",
    "    mae = mean_absolute_error(val_y, preds_val)\n",
    "    return(mae)"
   ]
  },
  {
   "cell_type": "markdown",
   "id": "c1cd96b2",
   "metadata": {
    "papermill": {
     "duration": 0.004782,
     "end_time": "2024-01-04T09:11:07.855307",
     "exception": false,
     "start_time": "2024-01-04T09:11:07.850525",
     "status": "completed"
    },
    "tags": []
   },
   "source": [
    "## Step 1: Compare Different Tree Sizes\n",
    "Write a loop that tries the following values for *max_leaf_nodes* from a set of possible values.\n",
    "\n",
    "Call the *get_mae* function on each value of max_leaf_nodes. Store the output in some way that allows you to select the value of `max_leaf_nodes` that gives the most accurate model on your data."
   ]
  },
  {
   "cell_type": "code",
   "execution_count": 3,
   "id": "6d47706b",
   "metadata": {
    "execution": {
     "iopub.execute_input": "2024-01-04T09:11:07.867326Z",
     "iopub.status.busy": "2024-01-04T09:11:07.866929Z",
     "iopub.status.idle": "2024-01-04T09:11:07.914340Z",
     "shell.execute_reply": "2024-01-04T09:11:07.912663Z"
    },
    "papermill": {
     "duration": 0.056896,
     "end_time": "2024-01-04T09:11:07.917298",
     "exception": false,
     "start_time": "2024-01-04T09:11:07.860402",
     "status": "completed"
    },
    "tags": []
   },
   "outputs": [
    {
     "name": "stdout",
     "output_type": "stream",
     "text": [
      "Max leaf nodes: 5  \t\t Mean Absolute Error:  35044\n",
      "Max leaf nodes: 50  \t\t Mean Absolute Error:  27405\n",
      "Max leaf nodes: 500  \t\t Mean Absolute Error:  29454\n",
      "Max leaf nodes: 5000  \t\t Mean Absolute Error:  30162\n"
     ]
    },
    {
     "data": {
      "application/javascript": [
       "parent.postMessage({\"jupyterEvent\": \"custom.exercise_interaction\", \"data\": {\"outcomeType\": 1, \"valueTowardsCompletion\": 0.5, \"interactionType\": 1, \"questionType\": 1, \"questionId\": \"1_BestTreeSize\", \"learnToolsVersion\": \"0.3.4\", \"failureMessage\": \"\", \"exceptionClass\": \"\", \"trace\": \"\"}}, \"*\")"
      ],
      "text/plain": [
       "<IPython.core.display.Javascript object>"
      ]
     },
     "metadata": {},
     "output_type": "display_data"
    },
    {
     "data": {
      "text/markdown": [
       "<span style=\"color:#33cc33\">Correct</span>"
      ],
      "text/plain": [
       "Correct"
      ]
     },
     "metadata": {},
     "output_type": "display_data"
    }
   ],
   "source": [
    "candidate_max_leaf_nodes = [5, 25, 50, 100, 250, 500]\n",
    "# Write loop to find the ideal tree size from candidate_max_leaf_nodes\n",
    "for max_leaf_nodes in [5, 50, 500, 5000]:\n",
    "    my_mae = get_mae(max_leaf_nodes, train_X, val_X, train_y, val_y)\n",
    "    print(\"Max leaf nodes: %d  \\t\\t Mean Absolute Error:  %d\" %(max_leaf_nodes, my_mae))\n",
    "\n",
    "# Store the best value of max_leaf_nodes (it will be either 5, 25, 50, 100, 250 or 500)\n",
    "best_tree_size = 100\n",
    "\n",
    "# Check your answer\n",
    "step_1.check()"
   ]
  },
  {
   "cell_type": "code",
   "execution_count": 4,
   "id": "69de523c",
   "metadata": {
    "execution": {
     "iopub.execute_input": "2024-01-04T09:11:07.931145Z",
     "iopub.status.busy": "2024-01-04T09:11:07.930281Z",
     "iopub.status.idle": "2024-01-04T09:11:07.935047Z",
     "shell.execute_reply": "2024-01-04T09:11:07.934127Z"
    },
    "papermill": {
     "duration": 0.014488,
     "end_time": "2024-01-04T09:11:07.937413",
     "exception": false,
     "start_time": "2024-01-04T09:11:07.922925",
     "status": "completed"
    },
    "tags": []
   },
   "outputs": [],
   "source": [
    "# The lines below will show you a hint or the solution.\n",
    "# step_1.hint() \n",
    "# step_1.solution()"
   ]
  },
  {
   "cell_type": "markdown",
   "id": "fdf190b7",
   "metadata": {
    "papermill": {
     "duration": 0.005376,
     "end_time": "2024-01-04T09:11:07.948622",
     "exception": false,
     "start_time": "2024-01-04T09:11:07.943246",
     "status": "completed"
    },
    "tags": []
   },
   "source": [
    "## Step 2: Fit Model Using All Data\n",
    "You know the best tree size. If you were going to deploy this model in practice, you would make it even more accurate by using all of the data and keeping that tree size.  That is, you don't need to hold out the validation data now that you've made all your modeling decisions."
   ]
  },
  {
   "cell_type": "code",
   "execution_count": 5,
   "id": "7f6186a1",
   "metadata": {
    "execution": {
     "iopub.execute_input": "2024-01-04T09:11:07.961251Z",
     "iopub.status.busy": "2024-01-04T09:11:07.960837Z",
     "iopub.status.idle": "2024-01-04T09:11:07.982004Z",
     "shell.execute_reply": "2024-01-04T09:11:07.980246Z"
    },
    "papermill": {
     "duration": 0.030707,
     "end_time": "2024-01-04T09:11:07.984772",
     "exception": false,
     "start_time": "2024-01-04T09:11:07.954065",
     "status": "completed"
    },
    "tags": []
   },
   "outputs": [
    {
     "data": {
      "application/javascript": [
       "parent.postMessage({\"jupyterEvent\": \"custom.exercise_interaction\", \"data\": {\"outcomeType\": 1, \"valueTowardsCompletion\": 0.5, \"interactionType\": 1, \"questionType\": 2, \"questionId\": \"2_FitModelWithAllData\", \"learnToolsVersion\": \"0.3.4\", \"failureMessage\": \"\", \"exceptionClass\": \"\", \"trace\": \"\"}}, \"*\")"
      ],
      "text/plain": [
       "<IPython.core.display.Javascript object>"
      ]
     },
     "metadata": {},
     "output_type": "display_data"
    },
    {
     "data": {
      "text/markdown": [
       "<span style=\"color:#33cc33\">Correct</span>"
      ],
      "text/plain": [
       "Correct"
      ]
     },
     "metadata": {},
     "output_type": "display_data"
    }
   ],
   "source": [
    "# Fill in argument to make optimal size and uncomment\n",
    "final_model = DecisionTreeRegressor(max_leaf_nodes=best_tree_size, random_state=1)\n",
    "\n",
    "# fit the final model and uncomment the next two lines\n",
    "final_model.fit(X, y)\n",
    "\n",
    "# Check your answer\n",
    "step_2.check()"
   ]
  },
  {
   "cell_type": "code",
   "execution_count": 6,
   "id": "07ecb885",
   "metadata": {
    "execution": {
     "iopub.execute_input": "2024-01-04T09:11:07.998825Z",
     "iopub.status.busy": "2024-01-04T09:11:07.997803Z",
     "iopub.status.idle": "2024-01-04T09:11:08.002530Z",
     "shell.execute_reply": "2024-01-04T09:11:08.001471Z"
    },
    "papermill": {
     "duration": 0.014431,
     "end_time": "2024-01-04T09:11:08.005085",
     "exception": false,
     "start_time": "2024-01-04T09:11:07.990654",
     "status": "completed"
    },
    "tags": []
   },
   "outputs": [],
   "source": [
    "# step_2.hint()\n",
    "# step_2.solution()"
   ]
  },
  {
   "cell_type": "markdown",
   "id": "9b2787fc",
   "metadata": {
    "papermill": {
     "duration": 0.005485,
     "end_time": "2024-01-04T09:11:08.016430",
     "exception": false,
     "start_time": "2024-01-04T09:11:08.010945",
     "status": "completed"
    },
    "tags": []
   },
   "source": [
    "You've tuned this model and improved your results. But we are still using Decision Tree models, which are not very sophisticated by modern machine learning standards. In the next step you will learn to use Random Forests to improve your models even more.\n",
    "\n",
    "# Keep Going\n",
    "\n",
    "You are ready for **[Random Forests](https://www.kaggle.com/dansbecker/random-forests).**\n"
   ]
  },
  {
   "cell_type": "markdown",
   "id": "54b74bac",
   "metadata": {
    "papermill": {
     "duration": 0.005593,
     "end_time": "2024-01-04T09:11:08.027745",
     "exception": false,
     "start_time": "2024-01-04T09:11:08.022152",
     "status": "completed"
    },
    "tags": []
   },
   "source": [
    "---\n",
    "\n",
    "\n",
    "\n",
    "\n",
    "*Have questions or comments? Visit the [course discussion forum](https://www.kaggle.com/learn/intro-to-machine-learning/discussion) to chat with other learners.*"
   ]
  }
 ],
 "metadata": {
  "kaggle": {
   "accelerator": "none",
   "dataSources": [
    {
     "databundleVersionId": 111096,
     "sourceId": 10211,
     "sourceType": "competition"
    },
    {
     "datasetId": 11167,
     "sourceId": 15520,
     "sourceType": "datasetVersion"
    },
    {
     "datasetId": 2709,
     "sourceId": 38454,
     "sourceType": "datasetVersion"
    }
   ],
   "isGpuEnabled": false,
   "isInternetEnabled": false,
   "language": "python",
   "sourceType": "notebook"
  },
  "kernelspec": {
   "display_name": "Python 3",
   "language": "python",
   "name": "python3"
  },
  "language_info": {
   "codemirror_mode": {
    "name": "ipython",
    "version": 3
   },
   "file_extension": ".py",
   "mimetype": "text/x-python",
   "name": "python",
   "nbconvert_exporter": "python",
   "pygments_lexer": "ipython3",
   "version": "3.10.12"
  },
  "papermill": {
   "default_parameters": {},
   "duration": 7.134195,
   "end_time": "2024-01-04T09:11:08.756394",
   "environment_variables": {},
   "exception": null,
   "input_path": "__notebook__.ipynb",
   "output_path": "__notebook__.ipynb",
   "parameters": {},
   "start_time": "2024-01-04T09:11:01.622199",
   "version": "2.4.0"
  }
 },
 "nbformat": 4,
 "nbformat_minor": 5
}

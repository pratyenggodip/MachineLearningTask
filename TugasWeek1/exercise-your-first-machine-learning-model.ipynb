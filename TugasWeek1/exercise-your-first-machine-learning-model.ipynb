{
 "cells": [
  {
   "cell_type": "markdown",
   "id": "c12a8fe2",
   "metadata": {
    "papermill": {
     "duration": 0.007264,
     "end_time": "2024-01-04T09:06:57.914561",
     "exception": false,
     "start_time": "2024-01-04T09:06:57.907297",
     "status": "completed"
    },
    "tags": []
   },
   "source": [
    "**This notebook is an exercise in the [Introduction to Machine Learning](https://www.kaggle.com/learn/intro-to-machine-learning) course.  You can reference the tutorial at [this link](https://www.kaggle.com/dansbecker/your-first-machine-learning-model).**\n",
    "\n",
    "---\n"
   ]
  },
  {
   "cell_type": "markdown",
   "id": "beec4974",
   "metadata": {
    "papermill": {
     "duration": 0.006444,
     "end_time": "2024-01-04T09:06:57.927952",
     "exception": false,
     "start_time": "2024-01-04T09:06:57.921508",
     "status": "completed"
    },
    "tags": []
   },
   "source": [
    "## Recap\n",
    "So far, you have loaded your data and reviewed it with the following code. Run this cell to set up your coding environment where the previous step left off."
   ]
  },
  {
   "cell_type": "code",
   "execution_count": 1,
   "id": "6c73f53f",
   "metadata": {
    "execution": {
     "iopub.execute_input": "2024-01-04T09:06:57.943484Z",
     "iopub.status.busy": "2024-01-04T09:06:57.943089Z",
     "iopub.status.idle": "2024-01-04T09:07:00.116253Z",
     "shell.execute_reply": "2024-01-04T09:07:00.114787Z"
    },
    "papermill": {
     "duration": 2.183983,
     "end_time": "2024-01-04T09:07:00.118816",
     "exception": false,
     "start_time": "2024-01-04T09:06:57.934833",
     "status": "completed"
    },
    "tags": []
   },
   "outputs": [
    {
     "name": "stdout",
     "output_type": "stream",
     "text": [
      "Setup Complete\n"
     ]
    }
   ],
   "source": [
    "#Nama : Pratyenggo Damar Iswara Putra\n",
    "#NIM  : 1103194141\n",
    "\n",
    "# Code you have previously used to load data\n",
    "import pandas as pd\n",
    "\n",
    "# Path of the file to read\n",
    "iowa_file_path = '../input/home-data-for-ml-course/train.csv'\n",
    "\n",
    "home_data = pd.read_csv(iowa_file_path)\n",
    "\n",
    "# Set up code checking\n",
    "from learntools.core import binder\n",
    "binder.bind(globals())\n",
    "from learntools.machine_learning.ex3 import *\n",
    "\n",
    "print(\"Setup Complete\")"
   ]
  },
  {
   "cell_type": "markdown",
   "id": "a74ac4e7",
   "metadata": {
    "papermill": {
     "duration": 0.006878,
     "end_time": "2024-01-04T09:07:00.132794",
     "exception": false,
     "start_time": "2024-01-04T09:07:00.125916",
     "status": "completed"
    },
    "tags": []
   },
   "source": [
    "# Exercises\n",
    "\n",
    "## Step 1: Specify Prediction Target\n",
    "Select the target variable, which corresponds to the sales price. Save this to a new variable called `y`. You'll need to print a list of the columns to find the name of the column you need.\n"
   ]
  },
  {
   "cell_type": "code",
   "execution_count": 2,
   "id": "9b5b0672",
   "metadata": {
    "execution": {
     "iopub.execute_input": "2024-01-04T09:07:00.148050Z",
     "iopub.status.busy": "2024-01-04T09:07:00.147636Z",
     "iopub.status.idle": "2024-01-04T09:07:00.156176Z",
     "shell.execute_reply": "2024-01-04T09:07:00.155060Z"
    },
    "papermill": {
     "duration": 0.019082,
     "end_time": "2024-01-04T09:07:00.158526",
     "exception": false,
     "start_time": "2024-01-04T09:07:00.139444",
     "status": "completed"
    },
    "tags": []
   },
   "outputs": [
    {
     "data": {
      "text/plain": [
       "Index(['Id', 'MSSubClass', 'MSZoning', 'LotFrontage', 'LotArea', 'Street',\n",
       "       'Alley', 'LotShape', 'LandContour', 'Utilities', 'LotConfig',\n",
       "       'LandSlope', 'Neighborhood', 'Condition1', 'Condition2', 'BldgType',\n",
       "       'HouseStyle', 'OverallQual', 'OverallCond', 'YearBuilt', 'YearRemodAdd',\n",
       "       'RoofStyle', 'RoofMatl', 'Exterior1st', 'Exterior2nd', 'MasVnrType',\n",
       "       'MasVnrArea', 'ExterQual', 'ExterCond', 'Foundation', 'BsmtQual',\n",
       "       'BsmtCond', 'BsmtExposure', 'BsmtFinType1', 'BsmtFinSF1',\n",
       "       'BsmtFinType2', 'BsmtFinSF2', 'BsmtUnfSF', 'TotalBsmtSF', 'Heating',\n",
       "       'HeatingQC', 'CentralAir', 'Electrical', '1stFlrSF', '2ndFlrSF',\n",
       "       'LowQualFinSF', 'GrLivArea', 'BsmtFullBath', 'BsmtHalfBath', 'FullBath',\n",
       "       'HalfBath', 'BedroomAbvGr', 'KitchenAbvGr', 'KitchenQual',\n",
       "       'TotRmsAbvGrd', 'Functional', 'Fireplaces', 'FireplaceQu', 'GarageType',\n",
       "       'GarageYrBlt', 'GarageFinish', 'GarageCars', 'GarageArea', 'GarageQual',\n",
       "       'GarageCond', 'PavedDrive', 'WoodDeckSF', 'OpenPorchSF',\n",
       "       'EnclosedPorch', '3SsnPorch', 'ScreenPorch', 'PoolArea', 'PoolQC',\n",
       "       'Fence', 'MiscFeature', 'MiscVal', 'MoSold', 'YrSold', 'SaleType',\n",
       "       'SaleCondition', 'SalePrice'],\n",
       "      dtype='object')"
      ]
     },
     "execution_count": 2,
     "metadata": {},
     "output_type": "execute_result"
    }
   ],
   "source": [
    "# print the list of columns in the dataset to find the name of the prediction target\n",
    "home_data.columns"
   ]
  },
  {
   "cell_type": "code",
   "execution_count": 3,
   "id": "b13e2efa",
   "metadata": {
    "execution": {
     "iopub.execute_input": "2024-01-04T09:07:00.174617Z",
     "iopub.status.busy": "2024-01-04T09:07:00.173886Z",
     "iopub.status.idle": "2024-01-04T09:07:00.189669Z",
     "shell.execute_reply": "2024-01-04T09:07:00.188569Z"
    },
    "papermill": {
     "duration": 0.026428,
     "end_time": "2024-01-04T09:07:00.192091",
     "exception": false,
     "start_time": "2024-01-04T09:07:00.165663",
     "status": "completed"
    },
    "tags": []
   },
   "outputs": [
    {
     "data": {
      "application/javascript": [
       "parent.postMessage({\"jupyterEvent\": \"custom.exercise_interaction\", \"data\": {\"outcomeType\": 1, \"valueTowardsCompletion\": 0.25, \"interactionType\": 1, \"questionType\": 2, \"questionId\": \"1_SetTarget\", \"learnToolsVersion\": \"0.3.4\", \"failureMessage\": \"\", \"exceptionClass\": \"\", \"trace\": \"\"}}, \"*\")"
      ],
      "text/plain": [
       "<IPython.core.display.Javascript object>"
      ]
     },
     "metadata": {},
     "output_type": "display_data"
    },
    {
     "data": {
      "text/markdown": [
       "<span style=\"color:#33cc33\">Correct</span>"
      ],
      "text/plain": [
       "Correct"
      ]
     },
     "metadata": {},
     "output_type": "display_data"
    }
   ],
   "source": [
    "y = home_data.SalePrice\n",
    "\n",
    "# Check your answer\n",
    "step_1.check()"
   ]
  },
  {
   "cell_type": "code",
   "execution_count": 4,
   "id": "f45e4f56",
   "metadata": {
    "execution": {
     "iopub.execute_input": "2024-01-04T09:07:00.209266Z",
     "iopub.status.busy": "2024-01-04T09:07:00.208552Z",
     "iopub.status.idle": "2024-01-04T09:07:00.213514Z",
     "shell.execute_reply": "2024-01-04T09:07:00.212356Z"
    },
    "papermill": {
     "duration": 0.016181,
     "end_time": "2024-01-04T09:07:00.215801",
     "exception": false,
     "start_time": "2024-01-04T09:07:00.199620",
     "status": "completed"
    },
    "tags": []
   },
   "outputs": [],
   "source": [
    "# The lines below will show you a hint or the solution.\n",
    "# step_1.hint() \n",
    "# step_1.solution()"
   ]
  },
  {
   "cell_type": "markdown",
   "id": "b3c2fdbd",
   "metadata": {
    "papermill": {
     "duration": 0.007156,
     "end_time": "2024-01-04T09:07:00.230622",
     "exception": false,
     "start_time": "2024-01-04T09:07:00.223466",
     "status": "completed"
    },
    "tags": []
   },
   "source": [
    "## Step 2: Create X\n",
    "Now you will create a DataFrame called `X` holding the predictive features.\n",
    "\n",
    "Since you want only some columns from the original data, you'll first create a list with the names of the columns you want in `X`.\n",
    "\n",
    "You'll use just the following columns in the list (you can copy and paste the whole list to save some typing, though you'll still need to add quotes):\n",
    "  * LotArea\n",
    "  * YearBuilt\n",
    "  * 1stFlrSF\n",
    "  * 2ndFlrSF\n",
    "  * FullBath\n",
    "  * BedroomAbvGr\n",
    "  * TotRmsAbvGrd\n",
    "\n",
    "After you've created that list of features, use it to create the DataFrame that you'll use to fit the model."
   ]
  },
  {
   "cell_type": "code",
   "execution_count": 5,
   "id": "2eabd9da",
   "metadata": {
    "execution": {
     "iopub.execute_input": "2024-01-04T09:07:00.247642Z",
     "iopub.status.busy": "2024-01-04T09:07:00.246947Z",
     "iopub.status.idle": "2024-01-04T09:07:00.266590Z",
     "shell.execute_reply": "2024-01-04T09:07:00.265411Z"
    },
    "papermill": {
     "duration": 0.030793,
     "end_time": "2024-01-04T09:07:00.268877",
     "exception": false,
     "start_time": "2024-01-04T09:07:00.238084",
     "status": "completed"
    },
    "tags": []
   },
   "outputs": [
    {
     "data": {
      "application/javascript": [
       "parent.postMessage({\"jupyterEvent\": \"custom.exercise_interaction\", \"data\": {\"outcomeType\": 1, \"valueTowardsCompletion\": 0.25, \"interactionType\": 1, \"questionType\": 2, \"questionId\": \"2_SelectPredictionData\", \"learnToolsVersion\": \"0.3.4\", \"failureMessage\": \"\", \"exceptionClass\": \"\", \"trace\": \"\"}}, \"*\")"
      ],
      "text/plain": [
       "<IPython.core.display.Javascript object>"
      ]
     },
     "metadata": {},
     "output_type": "display_data"
    },
    {
     "data": {
      "text/markdown": [
       "<span style=\"color:#33cc33\">Correct</span>"
      ],
      "text/plain": [
       "Correct"
      ]
     },
     "metadata": {},
     "output_type": "display_data"
    }
   ],
   "source": [
    "# Create the list of features below\n",
    "feature_names = ['LotArea', 'YearBuilt', '1stFlrSF', '2ndFlrSF', 'FullBath', 'BedroomAbvGr', 'TotRmsAbvGrd']\n",
    "\n",
    "# Select data corresponding to features in feature_names\n",
    "X = home_data[feature_names]\n",
    "\n",
    "# Check your answer\n",
    "step_2.check()"
   ]
  },
  {
   "cell_type": "code",
   "execution_count": 6,
   "id": "c1821ed4",
   "metadata": {
    "execution": {
     "iopub.execute_input": "2024-01-04T09:07:00.286935Z",
     "iopub.status.busy": "2024-01-04T09:07:00.286503Z",
     "iopub.status.idle": "2024-01-04T09:07:00.290607Z",
     "shell.execute_reply": "2024-01-04T09:07:00.289699Z"
    },
    "papermill": {
     "duration": 0.015693,
     "end_time": "2024-01-04T09:07:00.292887",
     "exception": false,
     "start_time": "2024-01-04T09:07:00.277194",
     "status": "completed"
    },
    "tags": []
   },
   "outputs": [],
   "source": [
    "# step_2.hint()\n",
    "# step_2.solution()"
   ]
  },
  {
   "cell_type": "markdown",
   "id": "1c1a624b",
   "metadata": {
    "papermill": {
     "duration": 0.007689,
     "end_time": "2024-01-04T09:07:00.308749",
     "exception": false,
     "start_time": "2024-01-04T09:07:00.301060",
     "status": "completed"
    },
    "tags": []
   },
   "source": [
    "## Review Data\n",
    "Before building a model, take a quick look at **X** to verify it looks sensible"
   ]
  },
  {
   "cell_type": "code",
   "execution_count": 7,
   "id": "dc1190d6",
   "metadata": {
    "execution": {
     "iopub.execute_input": "2024-01-04T09:07:00.326501Z",
     "iopub.status.busy": "2024-01-04T09:07:00.326134Z",
     "iopub.status.idle": "2024-01-04T09:07:00.338535Z",
     "shell.execute_reply": "2024-01-04T09:07:00.337426Z"
    },
    "papermill": {
     "duration": 0.024458,
     "end_time": "2024-01-04T09:07:00.341105",
     "exception": false,
     "start_time": "2024-01-04T09:07:00.316647",
     "status": "completed"
    },
    "tags": []
   },
   "outputs": [
    {
     "name": "stdout",
     "output_type": "stream",
     "text": [
      "      LotArea  YearBuilt  1stFlrSF  2ndFlrSF  FullBath  BedroomAbvGr  \\\n",
      "0        8450       2003       856       854         2             3   \n",
      "1        9600       1976      1262         0         2             3   \n",
      "2       11250       2001       920       866         2             3   \n",
      "3        9550       1915       961       756         1             3   \n",
      "4       14260       2000      1145      1053         2             4   \n",
      "...       ...        ...       ...       ...       ...           ...   \n",
      "1455     7917       1999       953       694         2             3   \n",
      "1456    13175       1978      2073         0         2             3   \n",
      "1457     9042       1941      1188      1152         2             4   \n",
      "1458     9717       1950      1078         0         1             2   \n",
      "1459     9937       1965      1256         0         1             3   \n",
      "\n",
      "      TotRmsAbvGrd  \n",
      "0                8  \n",
      "1                6  \n",
      "2                6  \n",
      "3                7  \n",
      "4                9  \n",
      "...            ...  \n",
      "1455             7  \n",
      "1456             7  \n",
      "1457             9  \n",
      "1458             5  \n",
      "1459             6  \n",
      "\n",
      "[1460 rows x 7 columns]\n",
      "0       208500\n",
      "1       181500\n",
      "2       223500\n",
      "3       140000\n",
      "4       250000\n",
      "         ...  \n",
      "1455    175000\n",
      "1456    210000\n",
      "1457    266500\n",
      "1458    142125\n",
      "1459    147500\n",
      "Name: SalePrice, Length: 1460, dtype: int64\n"
     ]
    }
   ],
   "source": [
    "# Review data\n",
    "# print description or statistics from X\n",
    "print(X)\n",
    "\n",
    "# print the top few lines\n",
    "print(y)"
   ]
  },
  {
   "cell_type": "markdown",
   "id": "244b330a",
   "metadata": {
    "papermill": {
     "duration": 0.007909,
     "end_time": "2024-01-04T09:07:00.357258",
     "exception": false,
     "start_time": "2024-01-04T09:07:00.349349",
     "status": "completed"
    },
    "tags": []
   },
   "source": [
    "## Step 3: Specify and Fit Model\n",
    "Create a `DecisionTreeRegressor` and save it iowa_model. Ensure you've done the relevant import from sklearn to run this command.\n",
    "\n",
    "Then fit the model you just created using the data in `X` and `y` that you saved above."
   ]
  },
  {
   "cell_type": "code",
   "execution_count": 8,
   "id": "ba10dae3",
   "metadata": {
    "execution": {
     "iopub.execute_input": "2024-01-04T09:07:00.375342Z",
     "iopub.status.busy": "2024-01-04T09:07:00.374408Z",
     "iopub.status.idle": "2024-01-04T09:07:00.394768Z",
     "shell.execute_reply": "2024-01-04T09:07:00.393767Z"
    },
    "papermill": {
     "duration": 0.031812,
     "end_time": "2024-01-04T09:07:00.396904",
     "exception": false,
     "start_time": "2024-01-04T09:07:00.365092",
     "status": "completed"
    },
    "tags": []
   },
   "outputs": [
    {
     "data": {
      "application/javascript": [
       "parent.postMessage({\"jupyterEvent\": \"custom.exercise_interaction\", \"data\": {\"outcomeType\": 1, \"valueTowardsCompletion\": 0.25, \"interactionType\": 1, \"questionType\": 2, \"questionId\": \"3_CreateModel\", \"learnToolsVersion\": \"0.3.4\", \"failureMessage\": \"\", \"exceptionClass\": \"\", \"trace\": \"\"}}, \"*\")"
      ],
      "text/plain": [
       "<IPython.core.display.Javascript object>"
      ]
     },
     "metadata": {},
     "output_type": "display_data"
    },
    {
     "data": {
      "text/markdown": [
       "<span style=\"color:#33cc33\">Correct</span>"
      ],
      "text/plain": [
       "Correct"
      ]
     },
     "metadata": {},
     "output_type": "display_data"
    }
   ],
   "source": [
    "from sklearn.tree import DecisionTreeRegressor\n",
    "#specify the model.\n",
    "#For model reproducibility, set a numeric value for random_state when specifying the model\n",
    "iowa_model = DecisionTreeRegressor(random_state=1)\n",
    "\n",
    "# Fit the model\n",
    "iowa_model.fit(X,y)\n",
    "\n",
    "# Check your answer\n",
    "step_3.check()"
   ]
  },
  {
   "cell_type": "code",
   "execution_count": 9,
   "id": "c3915798",
   "metadata": {
    "execution": {
     "iopub.execute_input": "2024-01-04T09:07:00.415880Z",
     "iopub.status.busy": "2024-01-04T09:07:00.415127Z",
     "iopub.status.idle": "2024-01-04T09:07:00.419558Z",
     "shell.execute_reply": "2024-01-04T09:07:00.418499Z"
    },
    "papermill": {
     "duration": 0.016292,
     "end_time": "2024-01-04T09:07:00.421878",
     "exception": false,
     "start_time": "2024-01-04T09:07:00.405586",
     "status": "completed"
    },
    "tags": []
   },
   "outputs": [],
   "source": [
    "# step_3.hint()\n",
    "# step_3.solution()"
   ]
  },
  {
   "cell_type": "markdown",
   "id": "a2c20693",
   "metadata": {
    "papermill": {
     "duration": 0.007937,
     "end_time": "2024-01-04T09:07:00.438188",
     "exception": false,
     "start_time": "2024-01-04T09:07:00.430251",
     "status": "completed"
    },
    "tags": []
   },
   "source": [
    "## Step 4: Make Predictions\n",
    "Make predictions with the model's `predict` command using `X` as the data. Save the results to a variable called `predictions`."
   ]
  },
  {
   "cell_type": "code",
   "execution_count": 10,
   "id": "845d51cd",
   "metadata": {
    "execution": {
     "iopub.execute_input": "2024-01-04T09:07:00.456842Z",
     "iopub.status.busy": "2024-01-04T09:07:00.456094Z",
     "iopub.status.idle": "2024-01-04T09:07:00.468393Z",
     "shell.execute_reply": "2024-01-04T09:07:00.467694Z"
    },
    "papermill": {
     "duration": 0.02416,
     "end_time": "2024-01-04T09:07:00.470958",
     "exception": false,
     "start_time": "2024-01-04T09:07:00.446798",
     "status": "completed"
    },
    "tags": []
   },
   "outputs": [
    {
     "name": "stdout",
     "output_type": "stream",
     "text": [
      "[208500. 181500. 223500. ... 266500. 142125. 147500.]\n"
     ]
    },
    {
     "data": {
      "application/javascript": [
       "parent.postMessage({\"jupyterEvent\": \"custom.exercise_interaction\", \"data\": {\"outcomeType\": 1, \"valueTowardsCompletion\": 0.25, \"interactionType\": 1, \"questionType\": 2, \"questionId\": \"4_MakePredictions\", \"learnToolsVersion\": \"0.3.4\", \"failureMessage\": \"\", \"exceptionClass\": \"\", \"trace\": \"\"}}, \"*\")"
      ],
      "text/plain": [
       "<IPython.core.display.Javascript object>"
      ]
     },
     "metadata": {},
     "output_type": "display_data"
    },
    {
     "data": {
      "text/markdown": [
       "<span style=\"color:#33cc33\">Correct</span>"
      ],
      "text/plain": [
       "Correct"
      ]
     },
     "metadata": {},
     "output_type": "display_data"
    }
   ],
   "source": [
    "# melakukan prediksi menggunakan model yang disimpan dalam variabel iowa_model\n",
    "predictions = iowa_model.predict(X)\n",
    "print(predictions)\n",
    "\n",
    "# Check your answer\n",
    "step_4.check()"
   ]
  },
  {
   "cell_type": "code",
   "execution_count": 11,
   "id": "cd278780",
   "metadata": {
    "execution": {
     "iopub.execute_input": "2024-01-04T09:07:00.490340Z",
     "iopub.status.busy": "2024-01-04T09:07:00.489931Z",
     "iopub.status.idle": "2024-01-04T09:07:00.494274Z",
     "shell.execute_reply": "2024-01-04T09:07:00.493195Z"
    },
    "papermill": {
     "duration": 0.016858,
     "end_time": "2024-01-04T09:07:00.496548",
     "exception": false,
     "start_time": "2024-01-04T09:07:00.479690",
     "status": "completed"
    },
    "tags": []
   },
   "outputs": [],
   "source": [
    "# step_4.hint()\n",
    "# step_4.solution()"
   ]
  },
  {
   "cell_type": "markdown",
   "id": "7fcd4ec2",
   "metadata": {
    "papermill": {
     "duration": 0.008519,
     "end_time": "2024-01-04T09:07:00.513908",
     "exception": false,
     "start_time": "2024-01-04T09:07:00.505389",
     "status": "completed"
    },
    "tags": []
   },
   "source": [
    "## Think About Your Results\n",
    "\n",
    "Use the `head` method to compare the top few predictions to the actual home values (in `y`) for those same homes. Anything surprising?\n"
   ]
  },
  {
   "cell_type": "code",
   "execution_count": 12,
   "id": "b02f5ca8",
   "metadata": {
    "execution": {
     "iopub.execute_input": "2024-01-04T09:07:00.533510Z",
     "iopub.status.busy": "2024-01-04T09:07:00.532861Z",
     "iopub.status.idle": "2024-01-04T09:07:00.537541Z",
     "shell.execute_reply": "2024-01-04T09:07:00.536453Z"
    },
    "papermill": {
     "duration": 0.017038,
     "end_time": "2024-01-04T09:07:00.539804",
     "exception": false,
     "start_time": "2024-01-04T09:07:00.522766",
     "status": "completed"
    },
    "tags": []
   },
   "outputs": [],
   "source": [
    "# You can write code in this cell\n"
   ]
  },
  {
   "cell_type": "markdown",
   "id": "8c9d0651",
   "metadata": {
    "papermill": {
     "duration": 0.008355,
     "end_time": "2024-01-04T09:07:00.556609",
     "exception": false,
     "start_time": "2024-01-04T09:07:00.548254",
     "status": "completed"
    },
    "tags": []
   },
   "source": [
    "It's natural to ask how accurate the model's predictions will be and how you can improve that. That will be you're next step.\n",
    "\n",
    "# Keep Going\n",
    "\n",
    "You are ready for **[Model Validation](https://www.kaggle.com/dansbecker/model-validation).**\n"
   ]
  },
  {
   "cell_type": "markdown",
   "id": "de1c3c6c",
   "metadata": {
    "papermill": {
     "duration": 0.008442,
     "end_time": "2024-01-04T09:07:00.573823",
     "exception": false,
     "start_time": "2024-01-04T09:07:00.565381",
     "status": "completed"
    },
    "tags": []
   },
   "source": [
    "---\n",
    "\n",
    "\n",
    "\n",
    "\n",
    "*Have questions or comments? Visit the [course discussion forum](https://www.kaggle.com/learn/intro-to-machine-learning/discussion) to chat with other learners.*"
   ]
  }
 ],
 "metadata": {
  "kaggle": {
   "accelerator": "none",
   "dataSources": [
    {
     "databundleVersionId": 111096,
     "sourceId": 10211,
     "sourceType": "competition"
    },
    {
     "datasetId": 11167,
     "sourceId": 15520,
     "sourceType": "datasetVersion"
    },
    {
     "datasetId": 2709,
     "sourceId": 38454,
     "sourceType": "datasetVersion"
    }
   ],
   "isGpuEnabled": false,
   "isInternetEnabled": false,
   "language": "python",
   "sourceType": "notebook"
  },
  "kernelspec": {
   "display_name": "Python 3",
   "language": "python",
   "name": "python3"
  },
  "language_info": {
   "codemirror_mode": {
    "name": "ipython",
    "version": 3
   },
   "file_extension": ".py",
   "mimetype": "text/x-python",
   "name": "python",
   "nbconvert_exporter": "python",
   "pygments_lexer": "ipython3",
   "version": "3.10.12"
  },
  "papermill": {
   "default_parameters": {},
   "duration": 6.696936,
   "end_time": "2024-01-04T09:07:01.203008",
   "environment_variables": {},
   "exception": null,
   "input_path": "__notebook__.ipynb",
   "output_path": "__notebook__.ipynb",
   "parameters": {},
   "start_time": "2024-01-04T09:06:54.506072",
   "version": "2.4.0"
  }
 },
 "nbformat": 4,
 "nbformat_minor": 5
}
